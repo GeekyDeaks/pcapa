{
 "cells": [
  {
   "cell_type": "code",
   "execution_count": 65,
   "id": "ba156322",
   "metadata": {},
   "outputs": [],
   "source": [
    "import dpkt\n",
    "import datetime\n",
    "import itertools\n",
    "from dpkt.utils import mac_to_str, inet_to_str\n",
    "from collections import namedtuple\n"
   ]
  },
  {
   "cell_type": "code",
   "execution_count": 66,
   "id": "c2ea90a5",
   "metadata": {},
   "outputs": [],
   "source": [
    "def drop_packet(pkt):\n",
    "    # simple filer to keep the packets we are interested in\n",
    "    return not hasattr(p, 'tcp')"
   ]
  },
  {
   "cell_type": "code",
   "execution_count": 71,
   "id": "dc046e9d",
   "metadata": {},
   "outputs": [],
   "source": [
    "class Packet:\n",
    "    def __init__(self, pkt):\n",
    "        timestamp, buf = pkt\n",
    "        self.timestamp = timestamp\n",
    "    \n",
    "        # Unpack the Ethernet frame (mac src/dst, ethertype)\n",
    "        self.eth = eth = dpkt.ethernet.Ethernet(buf)\n",
    "\n",
    "        # Make sure the Ethernet data contains an IP packet\n",
    "        if not isinstance(eth.data, dpkt.ip.IP):\n",
    "            return\n",
    "\n",
    "        # Now grab the data within the Ethernet frame (the IP packet)\n",
    "        self.ip = ip = eth.data\n",
    "        \n",
    "        self.src = ip.src\n",
    "        self.dst = ip.dst\n",
    "\n",
    "        # Check for TCP in the transport layer\n",
    "        if not isinstance(ip.data, dpkt.tcp.TCP):\n",
    "            return\n",
    "\n",
    "        # Set the TCP data\n",
    "        self.tcp = tcp = ip.data\n",
    "        \n",
    "        self.sport = tcp.sport\n",
    "        self.dport = tcp.dport\n",
    "        self.seq = tcp.seq\n",
    "        self.ack = tcp.ack\n",
    "        \n",
    "    def dump(self):\n",
    "        \n",
    "        out = str(datetime.datetime.utcfromtimestamp(self.timestamp))\n",
    "        if hasattr(self, 'src'):\n",
    "            out += f' {inet_to_str(self.src)}'\n",
    "            \n",
    "        if hasattr(self, 'sport'):\n",
    "            out += f':{self.sport}'\n",
    "            \n",
    "        if hasattr(self, 'dst'):\n",
    "            out += f' -> {inet_to_str(self.dst)}'\n",
    "            \n",
    "        if hasattr(self, 'dport'):\n",
    "            out += f':{self.dport}'\n",
    "            \n",
    "        return out\n",
    "    \n",
    "    def key(self):\n",
    "        return (self.src, self.sport, self.dst, self.dport)\n",
    "    \n",
    "    def reverse_key(self):\n",
    "        return (self.dst, self.dport, self.src, self.sport)\n",
    "           "
   ]
  },
  {
   "cell_type": "code",
   "execution_count": 68,
   "id": "8ff49354",
   "metadata": {},
   "outputs": [],
   "source": [
    "class Monologue:\n",
    "    def __init__(self, pkt):\n",
    "        # create a new monologue instance from the Packet\n",
    "        self.last_seq = pkt.seq\n",
    "        self.bytes = 0\n",
    "        self.pkt = pkt\n",
    "        \n",
    "    def update(self, pkt):\n",
    "        if pkt.seq > self.last_seq:\n",
    "            self.bytes += pkt.seq - self.last_seq\n",
    "            self.last_seq = pkt.seq\n",
    "        \n",
    "        "
   ]
  },
  {
   "cell_type": "code",
   "execution_count": 70,
   "id": "1308768d",
   "metadata": {},
   "outputs": [
    {
     "name": "stdout",
     "output_type": "stream",
     "text": [
      "2022-01-14 21:35:07.591306 192.168.152.116:57368 -> 31.204.153.0:443 8577\n",
      "2022-01-14 21:35:07.624399 31.204.153.0:443 -> 192.168.152.116:57368 400531555\n",
      "2022-01-14 21:54:07.777341 192.168.152.116:57492 -> 31.204.153.0:443 9415\n",
      "2022-01-14 21:54:07.807662 31.204.153.0:443 -> 192.168.152.116:57492 170871\n"
     ]
    }
   ],
   "source": [
    "with open('pcap/racedepartment-slow.pcap', 'rb') as f:\n",
    "    mono = dict()\n",
    "    reader = dpkt.pcap.Reader(f)\n",
    "    #head = itertools.islice(reader, 5) # grab the first five elements\n",
    "    for pkt in reader:\n",
    "        p = Packet(pkt)\n",
    "        if drop_packet(p):\n",
    "            continue\n",
    "            \n",
    "        key = p.key()\n",
    "        if key not in mono:\n",
    "            mono[key] = Monologue(p)\n",
    "            \n",
    "        mono[key].update(p)\n",
    "        \n",
    "\n",
    "    # dump the monologues\n",
    "    for m in mono.values():\n",
    "        print(f'{m.pkt.dump()} {m.bytes}')\n",
    "        "
   ]
  },
  {
   "cell_type": "code",
   "execution_count": null,
   "id": "f7528a3e",
   "metadata": {},
   "outputs": [],
   "source": []
  }
 ],
 "metadata": {
  "kernelspec": {
   "display_name": "Python 3 (ipykernel)",
   "language": "python",
   "name": "python3"
  },
  "language_info": {
   "codemirror_mode": {
    "name": "ipython",
    "version": 3
   },
   "file_extension": ".py",
   "mimetype": "text/x-python",
   "name": "python",
   "nbconvert_exporter": "python",
   "pygments_lexer": "ipython3",
   "version": "3.9.7"
  }
 },
 "nbformat": 4,
 "nbformat_minor": 5
}
